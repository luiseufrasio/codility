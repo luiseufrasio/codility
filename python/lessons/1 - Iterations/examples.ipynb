{
 "metadata": {
  "language_info": {
   "codemirror_mode": {
    "name": "ipython",
    "version": 3
   },
   "file_extension": ".py",
   "mimetype": "text/x-python",
   "name": "python",
   "nbconvert_exporter": "python",
   "pygments_lexer": "ipython3",
   "version": 3
  },
  "orig_nbformat": 2
 },
 "nbformat": 4,
 "nbformat_minor": 2,
 "cells": [
  {
   "cell_type": "code",
   "execution_count": null,
   "metadata": {},
   "outputs": [],
   "source": [
    "## Prints every integer from 0 to 99\n",
    "for i in range(0, 100):\n",
    "    print(i)"
   ]
  },
  {
   "cell_type": "code",
   "execution_count": null,
   "metadata": {},
   "outputs": [],
   "source": [
    "## Same result\n",
    "for i in range(100):\n",
    "    print(i)"
   ]
  },
  {
   "cell_type": "code",
   "execution_count": null,
   "metadata": {},
   "outputs": [],
   "source": [
    "## Function that computes the factorial of N\n",
    "def factorial(N):\n",
    "    f = 1\n",
    "    for i in range(1, N + 1):\n",
    "        f *= i\n",
    "    return f"
   ]
  },
  {
   "cell_type": "code",
   "execution_count": null,
   "metadata": {},
   "outputs": [],
   "source": [
    "print(\"Factorial(5) = %d\" % factorial(5))"
   ]
  },
  {
   "cell_type": "code",
   "execution_count": null,
   "metadata": {},
   "outputs": [],
   "source": [
    "## Triangle of asterisks\n",
    "## *\n",
    "## * *\n",
    "## * * *\n",
    "## * * * *\n",
    "def simple_triangle(N):\n",
    "    for i in range(1, N + 1):\n",
    "        for j in range(i):\n",
    "            print(\"* \", end=\"\")\n",
    "        print()"
   ]
  },
  {
   "cell_type": "code",
   "execution_count": null,
   "metadata": {},
   "outputs": [],
   "source": [
    "simple_triangle(5)"
   ]
  },
  {
   "cell_type": "code",
   "execution_count": null,
   "metadata": {},
   "outputs": [],
   "source": [
    "## Symmetrical Triangle upside down of asterisks\n",
    "## * * * * *\n",
    "##   * * *\n",
    "##     *\n",
    "def sym_triangle_upside_down(N):\n",
    "    for i in range(N, 0, -1):\n",
    "        for j in range(N - i):\n",
    "            print(\"  \", end=\"\")\n",
    "        for j in range(2 * i - 1):\n",
    "            print(\"* \", end=\"\")\n",
    "        print()"
   ]
  },
  {
   "cell_type": "code",
   "execution_count": null,
   "metadata": {},
   "outputs": [],
   "source": [
    "sym_triangle_upside_down(5)"
   ]
  },
  {
   "cell_type": "code",
   "execution_count": null,
   "metadata": {},
   "outputs": [],
   "source": [
    "# Counting the number of digits using while loop\n",
    "N = 111\n",
    "result = 0\n",
    "while N > 0:\n",
    "    N = N // 10\n",
    "    result += 1\n",
    "print(result)"
   ]
  },
  {
   "cell_type": "code",
   "execution_count": null,
   "metadata": {},
   "outputs": [],
   "source": [
    "\n",
    "# Printing all N fibonacci numbers\n",
    "def fibonacci(N):\n",
    "    x = 0\n",
    "    y = 1\n",
    "    while x <= N:\n",
    "        print(x, end=\" \")\n",
    "        z = y\n",
    "        y += x\n",
    "        x = z\n",
    "\n",
    "fibonacci(1000)"
   ]
  },
  {
   "cell_type": "code",
   "execution_count": null,
   "metadata": {},
   "outputs": [],
   "source": []
  }
 ]
}
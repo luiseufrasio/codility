{
 "metadata": {
  "language_info": {
   "codemirror_mode": {
    "name": "ipython",
    "version": 3
   },
   "file_extension": ".py",
   "mimetype": "text/x-python",
   "name": "python",
   "nbconvert_exporter": "python",
   "pygments_lexer": "ipython3",
   "version": "3.8.6-final"
  },
  "orig_nbformat": 2,
  "kernelspec": {
   "name": "python3",
   "display_name": "Python 3.8.6 64-bit",
   "metadata": {
    "interpreter": {
     "hash": "76d314e710bcbd02777f580791b231fe28bbfcaf4d1376fcdde3d4658c81a233"
    }
   }
  }
 },
 "nbformat": 4,
 "nbformat_minor": 2,
 "cells": [
  {
   "cell_type": "code",
   "execution_count": 1,
   "metadata": {},
   "outputs": [
    {
     "output_type": "stream",
     "name": "stdout",
     "text": [
      "0\n1\n2\n3\n4\n5\n6\n7\n8\n9\n10\n11\n12\n13\n14\n15\n16\n17\n18\n19\n20\n21\n22\n23\n24\n25\n26\n27\n28\n29\n30\n31\n32\n33\n34\n35\n36\n37\n38\n39\n40\n41\n42\n43\n44\n45\n46\n47\n48\n49\n50\n51\n52\n53\n54\n55\n56\n57\n58\n59\n60\n61\n62\n63\n64\n65\n66\n67\n68\n69\n70\n71\n72\n73\n74\n75\n76\n77\n78\n79\n80\n81\n82\n83\n84\n85\n86\n87\n88\n89\n90\n91\n92\n93\n94\n95\n96\n97\n98\n99\n"
     ]
    }
   ],
   "source": [
    "## Prints every integer from 0 to 99\n",
    "for i in range(0, 100):\n",
    "    print(i)"
   ]
  },
  {
   "cell_type": "code",
   "execution_count": 2,
   "metadata": {},
   "outputs": [
    {
     "output_type": "stream",
     "name": "stdout",
     "text": [
      "0\n1\n2\n3\n4\n5\n6\n7\n8\n9\n10\n11\n12\n13\n14\n15\n16\n17\n18\n19\n20\n21\n22\n23\n24\n25\n26\n27\n28\n29\n30\n31\n32\n33\n34\n35\n36\n37\n38\n39\n40\n41\n42\n43\n44\n45\n46\n47\n48\n49\n50\n51\n52\n53\n54\n55\n56\n57\n58\n59\n60\n61\n62\n63\n64\n65\n66\n67\n68\n69\n70\n71\n72\n73\n74\n75\n76\n77\n78\n79\n80\n81\n82\n83\n84\n85\n86\n87\n88\n89\n90\n91\n92\n93\n94\n95\n96\n97\n98\n99\n"
     ]
    }
   ],
   "source": [
    "## Same result\n",
    "for i in range(100):\n",
    "    print(i)"
   ]
  },
  {
   "cell_type": "code",
   "execution_count": 2,
   "metadata": {},
   "outputs": [],
   "source": [
    "## Function that computes the factorial of N\n",
    "def factorial(N):\n",
    "    f = 1\n",
    "    for i in range(1, N + 1):\n",
    "        f *= i\n",
    "    return f"
   ]
  },
  {
   "cell_type": "code",
   "execution_count": 3,
   "metadata": {},
   "outputs": [
    {
     "output_type": "stream",
     "name": "stdout",
     "text": [
      "Factorial(5) = 120\n"
     ]
    }
   ],
   "source": [
    "print(\"Factorial(5) = %d\" % factorial(5))"
   ]
  },
  {
   "cell_type": "code",
   "execution_count": 4,
   "metadata": {},
   "outputs": [],
   "source": [
    "## Triangle of asterisks\n",
    "## *\n",
    "## * *\n",
    "## * * *\n",
    "## * * * *\n",
    "def simple_triangle(N):\n",
    "    for i in range(1, N + 1):\n",
    "        for j in range(i):\n",
    "            print(\"* \", end=\"\")\n",
    "        print()"
   ]
  },
  {
   "cell_type": "code",
   "execution_count": 5,
   "metadata": {},
   "outputs": [
    {
     "output_type": "stream",
     "name": "stdout",
     "text": [
      "* \n* * \n* * * \n* * * * \n* * * * * \n"
     ]
    }
   ],
   "source": [
    "simple_triangle(5)"
   ]
  },
  {
   "cell_type": "code",
   "execution_count": 6,
   "metadata": {},
   "outputs": [],
   "source": [
    "## Symmetrical Triangle upside down of asterisks\n",
    "## * * * * *\n",
    "##   * * *\n",
    "##     *\n",
    "def sym_triangle_upside_down(N):\n",
    "    for i in range(N, 0, -1):\n",
    "        for j in range(N - i):\n",
    "            print(\"  \", end=\"\")\n",
    "        for j in range(2 * i - 1):\n",
    "            print(\"* \", end=\"\")\n",
    "        print()"
   ]
  },
  {
   "cell_type": "code",
   "execution_count": 7,
   "metadata": {},
   "outputs": [
    {
     "output_type": "stream",
     "name": "stdout",
     "text": [
      "* * * * * * * * * \n  * * * * * * * \n    * * * * * \n      * * * \n        * \n"
     ]
    }
   ],
   "source": [
    "sym_triangle_upside_down(5)"
   ]
  },
  {
   "cell_type": "code",
   "execution_count": 12,
   "metadata": {},
   "outputs": [
    {
     "output_type": "stream",
     "name": "stdout",
     "text": [
      "3\n"
     ]
    }
   ],
   "source": [
    "# Counting the number of digits using while loop\n",
    "N = 111\n",
    "result = 0\n",
    "while N > 0:\n",
    "    N = N // 10\n",
    "    result += 1\n",
    "print(result)"
   ]
  },
  {
   "cell_type": "code",
   "execution_count": 14,
   "metadata": {},
   "outputs": [],
   "source": [
    "\n",
    "# Printing all N fibonacci numbers\n",
    "def fibonacci(N):\n",
    "    x = 0\n",
    "    y = 1\n",
    "    while x <= N:\n",
    "        print(x, end=\" \")\n",
    "        z = y\n",
    "        y += x\n",
    "        x = z"
   ]
  },
  {
   "cell_type": "code",
   "execution_count": 15,
   "metadata": {},
   "outputs": [
    {
     "output_type": "stream",
     "name": "stdout",
     "text": [
      "0 1 1 2 3 5 8 13 21 34 55 89 144 233 377 610 987 "
     ]
    }
   ],
   "source": [
    "fibonacci(1000)"
   ]
  },
  {
   "cell_type": "code",
   "execution_count": 16,
   "metadata": {},
   "outputs": [
    {
     "output_type": "stream",
     "name": "stdout",
     "text": [
      "Segunda Terça Quarta Quinta Sexta Sábado Domingo "
     ]
    }
   ],
   "source": [
    "## Looping over collections of values\n",
    "days = ['Segunda', 'Terça', 'Quarta', 'Quinta', 'Sexta', 'Sábado', 'Domingo']\n",
    "for day in days:\n",
    "    print(day, end=\" \")"
   ]
  },
  {
   "cell_type": "code",
   "execution_count": 18,
   "metadata": {},
   "outputs": [
    {
     "output_type": "stream",
     "name": "stdout",
     "text": [
      "Quarta Domingo Sábado Quinta Sexta Terça Segunda "
     ]
    }
   ],
   "source": [
    "## Looping over a set of values => arbitrary order & unique elements\n",
    "days = set(['Segunda', 'Terça', 'Quarta', 'Quinta', 'Sexta', 'Sábado', 'Domingo', 'Domingo'])\n",
    "for day in days:\n",
    "    print(day, end=\" \")"
   ]
  },
  {
   "cell_type": "code",
   "execution_count": 22,
   "metadata": {},
   "outputs": [
    {
     "output_type": "stream",
     "name": "stdout",
     "text": [
      "SEG stands for Segunda\nTER stands for Terça\nQUA stands for Quarta\nQUI stands for Quinta\nSEX stands for Sexta\nSAB stands for Sábado\nDOM stands for Domingo\n"
     ]
    }
   ],
   "source": [
    "## Looping over a dictionary => order of the keys\n",
    "days = {\n",
    "    'SEG': 'Segunda', \n",
    "    'TER': 'Terça', \n",
    "    'QUA': 'Quarta', \n",
    "    'QUI': 'Quinta', \n",
    "    'SEX': 'Sexta', \n",
    "    'SAB': 'Sábado', \n",
    "    'DOM': 'Domingo'\n",
    "}\n",
    "for day in days:\n",
    "    print(\"%s stands for %s\" % (day, days[day]))"
   ]
  },
  {
   "cell_type": "code",
   "execution_count": null,
   "metadata": {},
   "outputs": [],
   "source": []
  }
 ]
}
{
 "metadata": {
  "language_info": {
   "codemirror_mode": {
    "name": "ipython",
    "version": 3
   },
   "file_extension": ".py",
   "mimetype": "text/x-python",
   "name": "python",
   "nbconvert_exporter": "python",
   "pygments_lexer": "ipython3",
   "version": "3.9.0-final"
  },
  "orig_nbformat": 2,
  "kernelspec": {
   "name": "python39064bitc13c308569f4459489eda91d2a8e7729",
   "display_name": "Python 3.9.0 64-bit",
   "language": "python"
  }
 },
 "nbformat": 4,
 "nbformat_minor": 2,
 "cells": [
  {
   "cell_type": "code",
   "execution_count": 1,
   "metadata": {},
   "outputs": [],
   "source": [
    "shopping_list = ['pão', 'leite', 'café', 'queijo']\n",
    "empty_list = []\n",
    "temperatures_each_day = [0] * 365"
   ]
  },
  {
   "cell_type": "code",
   "execution_count": 2,
   "metadata": {},
   "outputs": [
    {
     "output_type": "stream",
     "name": "stdout",
     "text": [
      "[0, 0, 0, 0, 0, 0, 0, 0, 0, 0, 0, 0, 0, 0, 0, 0, 0, 0, 0, 0, 0, 0, 0, 0, 0, 0, 0, 0, 0, 0, 0, 0, 0, 0, 0, 0, 0, 0, 0, 0, 0, 0, 0, 0, 0, 0, 0, 0, 0, 0, 0, 0, 0, 0, 0, 0, 0, 0, 0, 0, 0, 0, 0, 0, 0, 0, 0, 0, 0, 0, 0, 0, 0, 0, 0, 0, 0, 0, 0, 0, 0, 0, 0, 0, 0, 0, 0, 0, 0, 0, 0, 0, 0, 0, 0, 0, 0, 0, 0, 0, 0, 0, 0, 0, 0, 0, 0, 0, 0, 0, 0, 0, 0, 0, 0, 0, 0, 0, 0, 0, 0, 0, 0, 0, 0, 0, 0, 0, 0, 0, 0, 0, 0, 0, 0, 0, 0, 0, 0, 0, 0, 0, 0, 0, 0, 0, 0, 0, 0, 0, 0, 0, 0, 0, 0, 0, 0, 0, 0, 0, 0, 0, 0, 0, 0, 0, 0, 0, 0, 0, 0, 0, 0, 0, 0, 0, 0, 0, 0, 0, 0, 0, 0, 0, 0, 0, 0, 0, 0, 0, 0, 0, 0, 0, 0, 0, 0, 0, 0, 0, 0, 0, 0, 0, 0, 0, 0, 0, 0, 0, 0, 0, 0, 0, 0, 0, 0, 0, 0, 0, 0, 0, 0, 0, 0, 0, 0, 0, 0, 0, 0, 0, 0, 0, 0, 0, 0, 0, 0, 0, 0, 0, 0, 0, 0, 0, 0, 0, 0, 0, 0, 0, 0, 0, 0, 0, 0, 0, 0, 0, 0, 0, 0, 0, 0, 0, 0, 0, 0, 0, 0, 0, 0, 0, 0, 0, 0, 0, 0, 0, 0, 0, 0, 0, 0, 0, 0, 0, 0, 0, 0, 0, 0, 0, 0, 0, 0, 0, 0, 0, 0, 0, 0, 0, 0, 0, 0, 0, 0, 0, 0, 0, 0, 0, 0, 0, 0, 0, 0, 0, 0, 0, 0, 0, 0, 0, 0, 0, 0, 0, 0, 0, 0, 0, 0, 0, 0, 0, 0, 0, 0, 0, 0, 0, 0, 0, 0, 0, 0, 0, 0, 0, 0, 0, 0, 0, 0, 0, 0, 0, 0, 0, 0, 0, 0]\n"
     ]
    }
   ],
   "source": [
    "print(temperatures_each_day)"
   ]
  },
  {
   "cell_type": "code",
   "execution_count": 3,
   "metadata": {},
   "outputs": [],
   "source": [
    "temperatures_each_day[1] = 32\n",
    "shopping_list += ['ovos']"
   ]
  },
  {
   "cell_type": "code",
   "execution_count": 4,
   "metadata": {},
   "outputs": [
    {
     "output_type": "stream",
     "name": "stdout",
     "text": [
      "['pão', 'leite', 'café', 'queijo', 'ovos']\n"
     ]
    }
   ],
   "source": [
    "print(shopping_list)"
   ]
  },
  {
   "cell_type": "code",
   "execution_count": 5,
   "metadata": {},
   "outputs": [],
   "source": [
    "# Function that counts the number of days with negative air temperature\n",
    "def number_of_negatives(temperatures):\n",
    "    counter = 0\n",
    "    for temperature in temperatures:\n",
    "        if temperature < 0: counter += 1 \n",
    "    return counter"
   ]
  },
  {
   "cell_type": "code",
   "execution_count": 6,
   "metadata": {},
   "outputs": [
    {
     "output_type": "stream",
     "name": "stdout",
     "text": [
      "[53, 11, -37, -91, 69, -93, 25, -46, -91, -59, 6, 34, -1, 88, 95, -19, 77, -61, -5, 35, -99, -94, 99, 27, -40, 79, 25, 42, -94, 98, -82, 53, 65, -70, -46, -9, 17, -88, -73, 9, -17, 89, 22, 87, 47, 81, 86, -54, 74, 48, -46, -57, -68, 81, 79, -47, -69, -47, 12, -22, -9, 49, 36, -44, 4, -24, -75, 82, -51, 10, 78, 94, 77, 27, -42, -24, -5, 21, 36, -29, 36, -68, -51, 17, -23, 59, 56, 100, 96, 46, 1, -75, -52, -1, -48, 33, -86, 6, -71, 97, -11, -46, 69, -24, 36, -19, -5, 28, 63, -47, 94, -39, -12, -97, 69, 88, 44, -72, -98, -35, 86, -95, 29, 3, 42, 28, 97, 96, -39, -49, 91, 84, -74, 57, 85, -71, 46, 20, -8, -44, 32, 76, -61, 74, 69, -59, 90, -26, -97, 20, 59, -86, 100, -69, -4, -11, 30, 19, 69, -30, 24, 61, 34, -81, 100, -87, -5, -37, 79, -23, 32, 20, 69, -11, -82, 73, 90, 9, 14, 55, 23, 99, 3, -75, -84, -16, -48, 13, 97, -85, 84, 24, 10, -15, -27, 9, -92, 57, -43, 28, 94, 12, 27, 7, 58, 8, 71, 96, 31, 18, 48, -52, -16, 64, -1, 63, 36, 99, 27, 88, -5, 75, -85, -69, -43, -27, -30, -84, 6, -61, -15, -44, -58, -30, -32, -27, 54, -66, 82, 6, 86, -50, 0, -94, 10, -11, 12, 78, 29, -10, -52, 4, -11, 30, 57, -66, -36, 41, 97, -95, -2, 75, 98, -43, 35, -54, -28, 39, 19, -35, 60, 7, 43, -5, -92, -21, -63, 24, -26, -18, 29, 36, 18, 8, -44, -11, -63, -81, 66, -28, -15, 5, -2, -99, -23, -24, 47, -59, -11, 75, 83, 44, -33, -36, 34, -12, -41, 3, 9, -16, 52, 61, 19, 39, -9, 48, 55, 39, 41, -24, -27, 60, 18, -64, 58, 74, -36, 92, -63, -27, -57, -45, 8, 52, -24, -64, -83, -31, 45, -70, 0, 55, 64, -19, 62, -14, 62, -95, -62, 2, -43, -37, 64, -74, 79, -65, -20, 58, 70, 51, 44, 10, 6, 80, -38]\n"
     ]
    }
   ],
   "source": [
    "from random import randint\n",
    "\n",
    "for i in range(len(temperatures_each_day)):\n",
    "    temperatures_each_day[i] = randint(-100, 100)\n",
    "print(temperatures_each_day)"
   ]
  },
  {
   "cell_type": "code",
   "execution_count": 7,
   "metadata": {},
   "outputs": [
    {
     "output_type": "execute_result",
     "data": {
      "text/plain": [
       "170"
      ]
     },
     "metadata": {},
     "execution_count": 7
    }
   ],
   "source": [
    "number_of_negatives(temperatures_each_day)"
   ]
  },
  {
   "cell_type": "code",
   "execution_count": 8,
   "metadata": {},
   "outputs": [
    {
     "output_type": "execute_result",
     "data": {
      "text/plain": [
       "365"
      ]
     },
     "metadata": {},
     "execution_count": 8
    }
   ],
   "source": [
    "# length of array\n",
    "len(temperatures_each_day)"
   ]
  },
  {
   "cell_type": "code",
   "execution_count": 9,
   "metadata": {},
   "outputs": [
    {
     "output_type": "execute_result",
     "data": {
      "text/plain": [
       "['Hello 3x', 'Hello 3x', 'Hello 3x']"
      ]
     },
     "metadata": {},
     "execution_count": 9
    }
   ],
   "source": [
    "# Repetition\n",
    "['Hello 3x'] * 3"
   ]
  },
  {
   "cell_type": "code",
   "execution_count": 10,
   "metadata": {},
   "outputs": [
    {
     "output_type": "execute_result",
     "data": {
      "text/plain": [
       "[1, 2, 3, 4, 5, 6]"
      ]
     },
     "metadata": {},
     "execution_count": 10
    }
   ],
   "source": [
    "# Concatenation\n",
    "[1, 2, 3] + [4, 5, 6]"
   ]
  },
  {
   "cell_type": "code",
   "execution_count": 11,
   "metadata": {},
   "outputs": [
    {
     "output_type": "execute_result",
     "data": {
      "text/plain": [
       "True"
      ]
     },
     "metadata": {},
     "execution_count": 11
    }
   ],
   "source": [
    "# in operator\n",
    "'ovos' in shopping_list"
   ]
  },
  {
   "cell_type": "code",
   "execution_count": null,
   "metadata": {},
   "outputs": [],
   "source": []
  }
 ]
}
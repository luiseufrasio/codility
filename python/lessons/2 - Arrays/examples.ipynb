{
 "cells": [
  {
   "cell_type": "code",
   "execution_count": 1,
   "metadata": {},
   "outputs": [],
   "source": [
    "shopping_list = ['bread', 'milk', 'coffee', 'cheese']\n",
    "empty_list = []\n",
    "temperatures_each_day = [0] * 365"
   ]
  },
  {
   "cell_type": "code",
   "execution_count": 2,
   "metadata": {},
   "outputs": [
    {
     "name": "stdout",
     "output_type": "stream",
     "text": [
      "['bread', 'milk', 'coffee', 'cheese']\n"
     ]
    }
   ],
   "source": [
    "print(shopping_list)"
   ]
  },
  {
   "cell_type": "code",
   "execution_count": 3,
   "metadata": {},
   "outputs": [],
   "source": [
    "temperatures_each_day[1] = 32\n",
    "shopping_list += ['eggs']"
   ]
  },
  {
   "cell_type": "code",
   "execution_count": 4,
   "metadata": {},
   "outputs": [
    {
     "name": "stdout",
     "output_type": "stream",
     "text": [
      "['bread', 'milk', 'coffee', 'cheese', 'eggs']\n"
     ]
    }
   ],
   "source": [
    "print(shopping_list)"
   ]
  },
  {
   "cell_type": "code",
   "execution_count": 5,
   "metadata": {},
   "outputs": [],
   "source": [
    "# Function that counts the number of days with negative air temperature\n",
    "def number_of_negatives(temperatures):\n",
    "    counter = 0\n",
    "    for temperature in temperatures:\n",
    "        if temperature < 0: counter += 1 \n",
    "    return counter"
   ]
  },
  {
   "cell_type": "code",
   "execution_count": 9,
   "metadata": {},
   "outputs": [
    {
     "name": "stdout",
     "output_type": "stream",
     "text": [
      "[96, 4, -59, -63, -56, 92, 53, 96, -16, 12, 61, 9, 20, -45, -37, -47, -19, 51, -55, 90, 75, -15, -5, -59, 90, 48, -54, -34, -69, 53, 99, 51, 71, 18, 60, -95, 76, 20, 33, -21, 6, 73, 7, 68, 81, -67, 69, -33, -58, -52, -63, -7, -70, 90, 8, -38, 26, -67, 46, -97, -51, 53, -17, 67, -50, 46, -98, -24, -11, -41, 72, -92, -64, 7, 98, -76, 62, -83, 7, -34, 68, -62, 75, 25, 66, 1, -75, 74, 21, -82, 35, -22, -46, 74, -4, -50, -27, -65, 7, 73, -6, -21, -45, 44, 47, -93, 64, -55, -3, 67, -51, 9, -58, -28, 89, -38, -50, -17, 11, 74, -35, -55, 61, -39, -43, 95, -75, 33, 6, -10, 67, 55, -87, 11, -5, 66, -42, -94, 19, -74, -15, -49, 65, -91, -69, 59, 42, 10, 39, 74, 20, -68, -44, 0, -88, 25, -69, -54, 63, -85, 20, 99, -66, -58, -1, 87, -3, 33, 31, -94, -44, -8, 87, -81, -99, 36, 20, 27, 26, 56, 10, -62, 62, 95, -38, 10, -38, 9, 36, 41, -11, 12, -72, -87, -35, -70, 24, 20, 96, 95, -87, 77, 23, -20, 70, -86, -54, 30, 6, 81, -5, 22, -13, -30, -89, -86, -91, -80, -29, -83, 7, 29, 77, 90, -98, 57, -60, -77, 3, -68, 44, -14, -15, -3, -88, 82, -70, 31, 36, -92, -36, -23, -62, 11, 67, -37, -14, 77, -13, -3, 27, -60, -33, 52, 32, -46, -91, -50, -98, -45, -18, -91, 100, 20, -86, 79, 62, 59, -89, 73, -57, -1, 33, -30, 26, -27, -98, 98, 62, -29, -44, 35, -82, 79, 83, 14, 22, 32, -10, 70, -14, -61, -67, 27, 84, -90, -55, -2, 39, 22, 22, -68, 9, -8, -30, 91, -100, 51, -57, -9, 12, 15, 16, -64, 34, -59, -97, 35, -9, 15, -22, 39, 36, -40, 34, -19, 90, 57, -13, 61, -35, -24, 51, -81, -46, 73, -36, -9, -36, 31, 68, -32, -18, -68, 65, 24, 24, -69, 6, 50, 11, 70, 15, 6, -54, -54, 24, 25, 45, -90, -51, -13, -31, -16, 86]\n"
     ]
    }
   ],
   "source": [
    "from random import randint\n",
    "\n",
    "for i in range(len(temperatures_each_day)):\n",
    "    temperatures_each_day[i] = randint(-100, 100)\n",
    "print(temperatures_each_day)"
   ]
  },
  {
   "cell_type": "code",
   "execution_count": 10,
   "metadata": {},
   "outputs": [
    {
     "data": {
      "text/plain": [
       "186"
      ]
     },
     "execution_count": 10,
     "metadata": {},
     "output_type": "execute_result"
    }
   ],
   "source": [
    "number_of_negatives(temperatures_each_day)"
   ]
  },
  {
   "cell_type": "code",
   "execution_count": 11,
   "metadata": {},
   "outputs": [
    {
     "data": {
      "text/plain": [
       "365"
      ]
     },
     "execution_count": 11,
     "metadata": {},
     "output_type": "execute_result"
    }
   ],
   "source": [
    "# length of array\n",
    "len(temperatures_each_day)"
   ]
  },
  {
   "cell_type": "code",
   "execution_count": 12,
   "metadata": {},
   "outputs": [
    {
     "data": {
      "text/plain": [
       "['Hello 3x', 'Hello 3x', 'Hello 3x']"
      ]
     },
     "execution_count": 12,
     "metadata": {},
     "output_type": "execute_result"
    }
   ],
   "source": [
    "# Repetition\n",
    "['Hello 3x'] * 3"
   ]
  },
  {
   "cell_type": "code",
   "execution_count": 13,
   "metadata": {},
   "outputs": [
    {
     "data": {
      "text/plain": [
       "[1, 2, 3, 4, 5, 6]"
      ]
     },
     "execution_count": 13,
     "metadata": {},
     "output_type": "execute_result"
    }
   ],
   "source": [
    "# Concatenation\n",
    "[1, 2, 3] + [4, 5, 6]"
   ]
  },
  {
   "cell_type": "code",
   "execution_count": 14,
   "metadata": {},
   "outputs": [
    {
     "data": {
      "text/plain": [
       "True"
      ]
     },
     "execution_count": 14,
     "metadata": {},
     "output_type": "execute_result"
    }
   ],
   "source": [
    "# in operator\n",
    "'eggs' in shopping_list"
   ]
  },
  {
   "cell_type": "code",
   "execution_count": null,
   "metadata": {},
   "outputs": [],
   "source": []
  }
 ],
 "metadata": {
  "kernelspec": {
   "display_name": "Python 3.9.13 64-bit (microsoft store)",
   "language": "python",
   "name": "python3"
  },
  "language_info": {
   "codemirror_mode": {
    "name": "ipython",
    "version": 3
   },
   "file_extension": ".py",
   "mimetype": "text/x-python",
   "name": "python",
   "nbconvert_exporter": "python",
   "pygments_lexer": "ipython3",
   "version": "3.9.13"
  },
  "orig_nbformat": 2,
  "vscode": {
   "interpreter": {
    "hash": "2ac9d3fe00a7c63aa3b3549fc158d6d369196807c10e067be5696afd95b63be0"
   }
  }
 },
 "nbformat": 4,
 "nbformat_minor": 2
}
